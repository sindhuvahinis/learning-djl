{
 "cells": [
  {
   "cell_type": "markdown",
   "id": "4629682a",
   "metadata": {},
   "source": [
    "# NDArray DJL \n",
    "\n",
    "## Notebook to learn DJL NDArray\n",
    "\n",
    "### Metadata\n",
    "- getDataType() boolean, int32\n",
    "- getShape()\n",
    "- getDevice() - location of NDArray\n",
    "- size()\n",
    "\n",
    "### NDArray to Java Primitive Array\n",
    "- toFloatArray() - to 1D array \n",
    "- toFloat() "
   ]
  },
  {
   "cell_type": "code",
   "execution_count": 1,
   "id": "9a2b8b4c",
   "metadata": {},
   "outputs": [],
   "source": [
    "%maven ai.djl:api:0.10.0\n",
    "%maven ai.djl.mxnet:mxnet-engine:0.10.0\n",
    "%maven ai.djl.mxnet:mxnet-native-auto:1.7.0-backport"
   ]
  },
  {
   "cell_type": "code",
   "execution_count": 2,
   "id": "14a6204a",
   "metadata": {},
   "outputs": [],
   "source": [
    "import ai.djl.Device;\n",
    "import ai.djl.ndarray.*;\n",
    "import ai.djl.ndarray.types.*;\n",
    "import ai.djl.ndarray.index.*;\n",
    "import ai.djl.ndarray.types.DataType;"
   ]
  },
  {
   "cell_type": "code",
   "execution_count": 5,
   "id": "ee6ff19a",
   "metadata": {},
   "outputs": [],
   "source": [
    "NDManager manager = NDManager.newBaseManager();"
   ]
  },
  {
   "cell_type": "code",
   "execution_count": 6,
   "id": "f885179e",
   "metadata": {},
   "outputs": [],
   "source": [
    "NDArray oneDArray = manager.create(new int[]{1,2,3,4})"
   ]
  },
  {
   "cell_type": "code",
   "execution_count": 7,
   "id": "cfa09fcf",
   "metadata": {},
   "outputs": [
    {
     "data": {
      "text/plain": [
       "ND: (4) cpu() int32\n",
       "[ 1,  2,  3,  4]\n"
      ]
     },
     "execution_count": 7,
     "metadata": {},
     "output_type": "execute_result"
    }
   ],
   "source": [
    "oneDArray"
   ]
  },
  {
   "cell_type": "code",
   "execution_count": 8,
   "id": "a9fbde98",
   "metadata": {},
   "outputs": [],
   "source": [
    "NDArray twoDArray = manager.create(new int[]{1,2,3,4}, new Shape(2,2))"
   ]
  },
  {
   "cell_type": "code",
   "execution_count": 9,
   "id": "9cfcec43",
   "metadata": {},
   "outputs": [
    {
     "data": {
      "text/plain": [
       "ND: (2, 2) cpu() int32\n",
       "[[ 1,  2],\n",
       " [ 3,  4],\n",
       "]\n"
      ]
     },
     "execution_count": 9,
     "metadata": {},
     "output_type": "execute_result"
    }
   ],
   "source": [
    "twoDArray"
   ]
  },
  {
   "cell_type": "markdown",
   "id": "1e32c928",
   "metadata": {},
   "source": [
    "### Prepopulation of NDArray"
   ]
  },
  {
   "cell_type": "code",
   "execution_count": 10,
   "id": "0aed0871",
   "metadata": {},
   "outputs": [],
   "source": [
    "NDArray onesArray = manager.ones(new Shape(2,2));"
   ]
  },
  {
   "cell_type": "code",
   "execution_count": 11,
   "id": "1a945866",
   "metadata": {},
   "outputs": [
    {
     "data": {
      "text/plain": [
       "ND: (2, 2) cpu() float32\n",
       "[[1., 1.],\n",
       " [1., 1.],\n",
       "]\n"
      ]
     },
     "execution_count": 11,
     "metadata": {},
     "output_type": "execute_result"
    }
   ],
   "source": [
    "onesArray"
   ]
  },
  {
   "cell_type": "code",
   "execution_count": 13,
   "id": "ab408236",
   "metadata": {},
   "outputs": [
    {
     "data": {
      "text/plain": [
       "ND: (2, 2) cpu() float32\n",
       "[[1.1631, 2.2122],\n",
       " [0.4838, 0.774 ],\n",
       "]\n"
      ]
     },
     "execution_count": 13,
     "metadata": {},
     "output_type": "execute_result"
    }
   ],
   "source": [
    "NDArray randomArray = manager.randomNormal(new Shape(2,2));\n",
    "randomArray"
   ]
  },
  {
   "cell_type": "code",
   "execution_count": 14,
   "id": "9c4d3e68",
   "metadata": {},
   "outputs": [
    {
     "data": {
      "text/plain": [
       "ND: (2, 2) cpu() float32\n",
       "[[0.5488, 0.5928],\n",
       " [0.7152, 0.8443],\n",
       "]\n"
      ]
     },
     "execution_count": 14,
     "metadata": {},
     "output_type": "execute_result"
    }
   ],
   "source": [
    "randomArray = manager.randomUniform(0,1,new Shape(2,2));\n",
    "randomArray"
   ]
  },
  {
   "cell_type": "code",
   "execution_count": 16,
   "id": "a51ccf3b",
   "metadata": {},
   "outputs": [
    {
     "data": {
      "text/plain": [
       "ND: (9) cpu() int32\n",
       "[ 1,  2,  3,  4,  5,  6,  7,  8,  9]\n"
      ]
     },
     "execution_count": 16,
     "metadata": {},
     "output_type": "execute_result"
    }
   ],
   "source": [
    "NDArray filledArray = manager.arange(1,10);\n",
    "filledArray"
   ]
  },
  {
   "cell_type": "code",
   "execution_count": 20,
   "id": "c5036995",
   "metadata": {},
   "outputs": [
    {
     "data": {
      "text/plain": [
       "ND: (3, 3) cpu() int32\n",
       "[[ 1,  2,  3],\n",
       " [ 4,  5,  6],\n",
       " [ 7,  8,  9],\n",
       "]\n"
      ]
     },
     "execution_count": 20,
     "metadata": {},
     "output_type": "execute_result"
    }
   ],
   "source": [
    "filledArray = filledArray.reshape(3,3);\n",
    "filledArray"
   ]
  },
  {
   "cell_type": "markdown",
   "id": "45412283",
   "metadata": {},
   "source": [
    "### Math Operation"
   ]
  },
  {
   "cell_type": "code",
   "execution_count": 23,
   "id": "96710424",
   "metadata": {},
   "outputs": [
    {
     "data": {
      "text/plain": [
       "ND: (3, 3) cpu() int32\n",
       "[[ 1,  4,  7],\n",
       " [ 2,  5,  8],\n",
       " [ 3,  6,  9],\n",
       "]\n"
      ]
     },
     "execution_count": 23,
     "metadata": {},
     "output_type": "execute_result"
    }
   ],
   "source": [
    "filledArray = filledArray.transpose();\n",
    "filledArray"
   ]
  },
  {
   "cell_type": "code",
   "execution_count": 26,
   "id": "47fdcf8f",
   "metadata": {},
   "outputs": [
    {
     "data": {
      "text/plain": [
       "ND: (3, 3) cpu() int32\n",
       "[[21, 24, 27],\n",
       " [22, 25, 28],\n",
       " [23, 26, 29],\n",
       "]\n"
      ]
     },
     "execution_count": 26,
     "metadata": {},
     "output_type": "execute_result"
    }
   ],
   "source": [
    "filledArray = filledArray.add(10);\n",
    "filledArray"
   ]
  },
  {
   "cell_type": "code",
   "execution_count": 27,
   "id": "4424eadb",
   "metadata": {},
   "outputs": [
    {
     "data": {
      "text/plain": [
       "ND: (3, 3) cpu() int32\n",
       "[[ 1,  4,  7],\n",
       " [ 2,  5,  8],\n",
       " [ 3,  6,  9],\n",
       "]\n"
      ]
     },
     "execution_count": 27,
     "metadata": {},
     "output_type": "execute_result"
    }
   ],
   "source": [
    "filledArray = filledArray.mod(10);\n",
    "filledArray"
   ]
  },
  {
   "cell_type": "markdown",
   "id": "919677be",
   "metadata": {},
   "source": [
    "### Data manipulation"
   ]
  },
  {
   "cell_type": "code",
   "execution_count": 29,
   "id": "4625d5b6",
   "metadata": {},
   "outputs": [
    {
     "data": {
      "text/plain": [
       "ND: () cpu() int32\n",
       "9\n"
      ]
     },
     "execution_count": 29,
     "metadata": {},
     "output_type": "execute_result"
    }
   ],
   "source": [
    "filledArray.max()"
   ]
  },
  {
   "cell_type": "code",
   "execution_count": 32,
   "id": "3c4a30b2",
   "metadata": {},
   "outputs": [
    {
     "data": {
      "text/plain": [
       "ND: (5) cpu() int32\n",
       "[ 7,  5,  8,  6,  9]\n"
      ]
     },
     "execution_count": 32,
     "metadata": {},
     "output_type": "execute_result"
    }
   ],
   "source": [
    "filledArray.get(filledArray.gte(5))"
   ]
  },
  {
   "cell_type": "code",
   "execution_count": 39,
   "id": "f1a38565",
   "metadata": {},
   "outputs": [
    {
     "data": {
      "text/plain": [
       "ND: (3) cpu() int32\n",
       "[ 3,  6,  9]\n"
      ]
     },
     "execution_count": 39,
     "metadata": {},
     "output_type": "execute_result"
    }
   ],
   "source": [
    "filledArray.get(new NDIndex(\"2\"))"
   ]
  },
  {
   "cell_type": "code",
   "execution_count": 45,
   "id": "348114c5",
   "metadata": {},
   "outputs": [
    {
     "data": {
      "text/plain": [
       "ND: (3) cpu() int32\n",
       "[ 1,  2,  3]\n"
      ]
     },
     "execution_count": 45,
     "metadata": {},
     "output_type": "execute_result"
    }
   ],
   "source": [
    "filledArray.get(new NDIndex(\":,0\"))"
   ]
  },
  {
   "cell_type": "code",
   "execution_count": 46,
   "id": "66c539d5",
   "metadata": {},
   "outputs": [
    {
     "data": {
      "text/plain": [
       "ND: (3, 2) cpu() int32\n",
       "[[ 1,  4],\n",
       " [ 2,  5],\n",
       " [ 3,  6],\n",
       "]\n"
      ]
     },
     "execution_count": 46,
     "metadata": {},
     "output_type": "execute_result"
    }
   ],
   "source": [
    "filledArray.get(new NDIndex(\":,0:2\"))"
   ]
  },
  {
   "cell_type": "code",
   "execution_count": 47,
   "id": "8c446d0b",
   "metadata": {},
   "outputs": [
    {
     "data": {
      "text/plain": [
       "ND: (3) cpu() int32\n",
       "[ 3,  6,  9]\n"
      ]
     },
     "execution_count": 47,
     "metadata": {},
     "output_type": "execute_result"
    }
   ],
   "source": [
    "filledArray.get(new NDIndex(\"-1\"));"
   ]
  },
  {
   "cell_type": "code",
   "execution_count": null,
   "id": "725aea79",
   "metadata": {},
   "outputs": [],
   "source": []
  }
 ],
 "metadata": {
  "kernelspec": {
   "display_name": "Java",
   "language": "java",
   "name": "java"
  },
  "language_info": {
   "codemirror_mode": "java",
   "file_extension": ".jshell",
   "mimetype": "text/x-java-source",
   "name": "Java",
   "pygments_lexer": "java",
   "version": "16.0.1+9-24"
  }
 },
 "nbformat": 4,
 "nbformat_minor": 5
}

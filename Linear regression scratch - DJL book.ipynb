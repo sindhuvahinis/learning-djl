{
 "cells": [
  {
   "cell_type": "code",
   "execution_count": 1,
   "id": "dd7eda20",
   "metadata": {},
   "outputs": [],
   "source": [
    "%maven ai.djl:api:0.10.0\n",
    "%maven ai.djl.mxnet:mxnet-engine:0.10.0\n",
    "%maven ai.djl.mxnet:mxnet-native-auto:1.7.0-backport"
   ]
  },
  {
   "cell_type": "code",
   "execution_count": 2,
   "id": "41a7bcbc",
   "metadata": {},
   "outputs": [],
   "source": [
    "%%loadFromPOM\n",
    "<dependency>\n",
    "    <groupId>tech.tablesaw</groupId>\n",
    "    <artifactId>tablesaw-jsplot</artifactId>\n",
    "    <version>0.38.1</version>\n",
    "</dependency>"
   ]
  },
  {
   "cell_type": "code",
   "execution_count": 5,
   "id": "71bfb679",
   "metadata": {},
   "outputs": [],
   "source": [
    "import ai.djl.Device;\n",
    "import ai.djl.ndarray.*;\n",
    "import ai.djl.ndarray.types.*;\n",
    "import ai.djl.ndarray.index.*;\n",
    "import ai.djl.ndarray.types.DataType;\n",
    "\n",
    "import tech.tablesaw.api.*;\n",
    "import tech.tablesaw.plotly.api.*;\n",
    "import tech.tablesaw.plotly.components.*;"
   ]
  },
  {
   "cell_type": "code",
   "execution_count": 6,
   "id": "3ceaf9c4",
   "metadata": {},
   "outputs": [],
   "source": [
    "class DataPoints {\n",
    "    private NDArray X, y;\n",
    "    public DataPoints(NDArray X, NDArray y) {\n",
    "        this.X = X;\n",
    "        this.y = y;\n",
    "    }\n",
    "\n",
    "    public NDArray getX() {\n",
    "        return X;\n",
    "    }\n",
    "\n",
    "    public NDArray getY() {\n",
    "        return y;\n",
    "    }\n",
    "}"
   ]
  },
  {
   "cell_type": "code",
   "execution_count": 7,
   "id": "f4a5a4fa",
   "metadata": {},
   "outputs": [],
   "source": [
    "public DataPoints syntheticData(NDManager manager, NDArray w, float b, int numExamples) {\n",
    "    NDArray X = manager.randomNormal(new Shape(numExamples, w.size()));\n",
    "    NDArray y = X.dot(w).add(b);\n",
    "    y = y.add(manager.randomNormal(0, 0.01f, y.getShape(), DataType.FLOAT32, Device.defaultDevice()));\n",
    "    return new DataPoints(X, y);\n",
    "}"
   ]
  },
  {
   "cell_type": "code",
   "execution_count": 10,
   "id": "ada66f0a",
   "metadata": {},
   "outputs": [],
   "source": [
    "NDManager manager = NDManager.newBaseManager();\n",
    "NDArray trueW = manager.create(new float[]{2, -3.4f});\n",
    "float trueB = 4.2f;\n",
    "\n",
    "DataPoints dp = syntheticData(manager, trueW, trueB, 1000);\n",
    "NDArray features = dp.getX();\n",
    "NDArray labels = dp.getY();"
   ]
  },
  {
   "cell_type": "markdown",
   "id": "46df6f41",
   "metadata": {},
   "source": [
    "### Reading data"
   ]
  },
  {
   "cell_type": "code",
   "execution_count": 26,
   "id": "fc0751aa",
   "metadata": {},
   "outputs": [],
   "source": [
    "import ai.djl.training.dataset.ArrayDataset;\n",
    "import ai.djl.training.dataset.Batch;\n"
   ]
  },
  {
   "cell_type": "code",
   "execution_count": 27,
   "id": "66cd11e1",
   "metadata": {},
   "outputs": [],
   "source": [
    "int batchSize = 10;\n",
    "ArrayDataset dataset = new ArrayDataset.Builder()\n",
    "                          .setData(features)\n",
    "                          .optLabels(labels)\n",
    "                          .setSampling(batchSize, false)\n",
    "                          .build();"
   ]
  },
  {
   "cell_type": "code",
   "execution_count": 31,
   "id": "de022b99",
   "metadata": {},
   "outputs": [
    {
     "ename": "CompilationException",
     "evalue": "",
     "output_type": "error",
     "traceback": [
      "\u001b[1m\u001b[30m|   \u001b[1m\u001b[30mSystem.out.println(\u001b[0m\u001b[1m\u001b[30m\u001b[41mdataset.getData(manager).head\u001b[0m\u001b[1m\u001b[30m())\u001b[0m",
      "\u001b[1m\u001b[31mcannot find symbol\u001b[0m",
      "\u001b[1m\u001b[31m  symbol:   method head()\u001b[0m",
      ""
     ]
    }
   ],
   "source": []
  },
  {
   "cell_type": "code",
   "execution_count": null,
   "id": "fe7d9b3f",
   "metadata": {},
   "outputs": [],
   "source": []
  }
 ],
 "metadata": {
  "kernelspec": {
   "display_name": "Java",
   "language": "java",
   "name": "java"
  },
  "language_info": {
   "codemirror_mode": "java",
   "file_extension": ".jshell",
   "mimetype": "text/x-java-source",
   "name": "Java",
   "pygments_lexer": "java",
   "version": "16.0.1+9-24"
  }
 },
 "nbformat": 4,
 "nbformat_minor": 5
}
